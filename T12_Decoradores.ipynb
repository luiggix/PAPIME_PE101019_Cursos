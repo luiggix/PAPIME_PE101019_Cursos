{
 "cells": [
  {
   "cell_type": "markdown",
   "metadata": {},
   "source": [
    "# Python 3: Básico\n",
    "Autor: Luis M. de la Cruz, IGF-UNAM, octubre de 2019."
   ]
  },
  {
   "cell_type": "markdown",
   "metadata": {},
   "source": [
    "# 2. <font color=blue> Pythonico es más bonito </font>"
   ]
  },
  {
   "cell_type": "markdown",
   "metadata": {},
   "source": [
    "## 2.11 <font color=orange> Pensando como pythonista: intermedio </font>\n",
    "\n",
    "### 2.11.5 <font color=green> Decoradores </font>\n",
    "\n",
    "#### Descripción.\n",
    "\n",
    "- Se denomina decorador a la persona dedicada a diseñar el interior de oficinas, viviendas o establecimientos comerciales con criterios estéticos y funcionales. <br>\n",
    "- Un decorador es un objeto de Python usado para modificar una función. <br>\n",
    "- Los decoradores son herramientas bonitas y útiles de Python. <br>\n",
    "\n",
    "### Ejemplo:\n",
    "\n",
    "Pornele una envoltura (*wrap*) para regalo a una función que imprime un texto."
   ]
  },
  {
   "cell_type": "code",
   "execution_count": null,
   "metadata": {},
   "outputs": [],
   "source": [
    "from termcolor import colored\n",
    "\n",
    "# Esta función contiene funciones anidadas, las cuales son las que \n",
    "# decoran a la función que se recibe como parámetro.\n",
    "def miDecorador(f):\n",
    "\n",
    "    # La función que hace el decorado.\n",
    "    def envoltura():\n",
    "        linea = '-' * 20\n",
    "        print(colored('.'+ linea + '.','blue'))\n",
    "        f()\n",
    "        print(colored('.'+ linea + '.','green'))\n",
    "    return envoltura\n",
    "\n",
    "# Una función cualquiera.\n",
    "def funcionX():\n",
    "    print('{:^20}'.format('Hola mundo'))\n",
    "\n",
    "# Ejecutando la función de manera normal.\n",
    "funcionX() \n",
    "\n",
    "# Decorando la función.\n",
    "#funcionX = miDecorador(funcionX) # Funcion decorada\n",
    "\n",
    "# Ahora se ejecuta la función decorada.\n",
    "#funcionX()\n",
    "\n",
    "# Otra manera de decorar una función.\n",
    "#@miDecorador\n",
    "#def funcionY():\n",
    "#    print('{:<20}'.format('Hola Pythonistas'))\n",
    "\n",
    "# La ejecución después del decorado.\n",
    "#funcionY()\n"
   ]
  },
  {
   "cell_type": "markdown",
   "metadata": {},
   "source": [
    "### Ejemplo:\n",
    "\n",
    "Calcular el seno y coseno de un número y *colorear* el resultado."
   ]
  },
  {
   "cell_type": "code",
   "execution_count": null,
   "metadata": {},
   "outputs": [],
   "source": [
    "from termcolor import colored\n",
    "\n",
    "def miColoreador(f):\n",
    "\n",
    "    def coloreado(x):\n",
    "        res = colored('| ', 'blue') \n",
    "        res += colored(f.__name__, 'red', attrs=['bold']) \n",
    "        res += '(' + str(x) + ') = ' + str(f(x))\n",
    "        n = len(res)\n",
    "        linea = '-' * n\n",
    "        \n",
    "        print(colored('.'+ linea + '.','blue'))\n",
    "        print(res)\n",
    "        print(colored('.'+ linea + '.','green'))\n",
    "    return coloreado\n",
    "\n",
    "from math import sin, cos\n",
    "\n",
    "sin = miColoreador(sin)\n",
    "cos = miColoreador(cos)\n",
    "\n",
    "for f in [sin, cos]:\n",
    "    f(3.141596)\n"
   ]
  },
  {
   "cell_type": "markdown",
   "metadata": {},
   "source": [
    "### Ejemplo:\n",
    "\n",
    "Decorar funciones con un número variable de argumentos."
   ]
  },
  {
   "cell_type": "code",
   "execution_count": null,
   "metadata": {},
   "outputs": [],
   "source": [
    "from random import random, randint, choice\n",
    "\n",
    "def otroDecorador(f):\n",
    "    def envoltura(*args, **kwargs):\n",
    "        cadena = colored('| ', 'blue') \n",
    "        cadena += colored(f.__name__, attrs=['bold']) \n",
    "        cadena += '(' + colored(str(args),'red',attrs=['bold']) + ') = ' \n",
    "        linea = '-' * 10\n",
    "        print(colored('.'+ linea + '.','blue'))\n",
    "        res = f(*args, **kwargs)\n",
    "        print(cadena, res)\n",
    "        print(colored('.'+ linea + '.','green'))\n",
    "        \n",
    "    return envoltura\n",
    "\n",
    "random = otroDecorador(random)\n",
    "randint = otroDecorador(randint)\n",
    "choice = otroDecorador(choice)\n",
    "\n",
    "random()\n",
    "randint(3, 8)\n",
    "choice([4, 5, 6])"
   ]
  },
  {
   "cell_type": "markdown",
   "metadata": {},
   "source": [
    "### Ejemplo:\n",
    "\n",
    "Crear un decorador que calcule el tiempo de ejecución de una función."
   ]
  },
  {
   "cell_type": "code",
   "execution_count": null,
   "metadata": {},
   "outputs": [],
   "source": [
    "import time\n",
    "\n",
    "def crono(f):\n",
    "    \"\"\"\n",
    "    Regresa el tiempo que toma en ejecutarse la funcion.\n",
    "    \"\"\"\n",
    "    def tiempo():\n",
    "        t1 = time.time()\n",
    "        f()\n",
    "        t2 = time.time()\n",
    "        return 'Elapsed time: ' + str((t2 - t1)) + \"\\n\"\n",
    "    return tiempo\n",
    "\n",
    "@crono\n",
    "def miFuncion():\n",
    "    numeros = []\n",
    "    for num in (range(0, 10000)):\n",
    "        numeros.append(num)\n",
    "    print('\\nLa suma es: ' + str((sum(numeros))))\n",
    "\n",
    "print(miFuncion())\n"
   ]
  },
  {
   "cell_type": "markdown",
   "metadata": {},
   "source": [
    "### Ejemplo:\n",
    "\n",
    "Detener la ejecución por un tiempo antes que una función sea ejecutada."
   ]
  },
  {
   "cell_type": "code",
   "execution_count": null,
   "metadata": {},
   "outputs": [],
   "source": [
    "from time import sleep\n",
    "\n",
    "def sleepDecorador(function):\n",
    "\n",
    "    def duerme(*args, **kwargs):\n",
    "        sleep(2)\n",
    "        return function(*args, **kwargs)\n",
    "    return duerme\n",
    "\n",
    "\n",
    "@sleepDecorador\n",
    "def imprimeNumero(num):\n",
    "    return num\n",
    "\n",
    "print(imprimeNumero(222))\n",
    "\n",
    "for num in range(1, 6):\n",
    "    print(imprimeNumero(num), end = ' ')\n",
    "\n",
    "print('\\n --> happy finish!')"
   ]
  },
  {
   "cell_type": "markdown",
   "metadata": {},
   "source": [
    "### Ejemplo:\n",
    "\n",
    "Crear un decorador que cheque que el argumento de una función que calcula el factorial, sea un entero positivo."
   ]
  },
  {
   "cell_type": "code",
   "execution_count": null,
   "metadata": {},
   "outputs": [],
   "source": [
    "def checaArgumento(f):\n",
    "    def checador(x):\n",
    "        if type(x) == int and x > 0:\n",
    "            return f(x)\n",
    "        else:\n",
    "            raise Exception(\"El argumento no es un entero positivo\")\n",
    "    return checador\n",
    "\n",
    "@checaArgumento\n",
    "def factorial(n):\n",
    "    if n == 1:\n",
    "        return 1\n",
    "    else:\n",
    "        return n * factorial(n-1)\n",
    "    \n",
    "for i in range(1,10):\n",
    "    print(i, factorial(i))\n",
    "    \n",
    "print(factorial(-1))"
   ]
  },
  {
   "cell_type": "markdown",
   "metadata": {},
   "source": [
    "### Ejemplo.\n",
    "\n",
    "Contar el número de llamadas de una función"
   ]
  },
  {
   "cell_type": "code",
   "execution_count": null,
   "metadata": {},
   "outputs": [],
   "source": [
    "def contadorDeLlamadas(func):\n",
    "    def cuenta(*args, **kwargs):\n",
    "        cuenta.calls += 1\n",
    "        return func(*args, **kwargs)\n",
    "    cuenta.calls = 0\n",
    "    return cuenta\n",
    "\n",
    "@contadorDeLlamadas\n",
    "def suc(x):\n",
    "    return x + 1\n",
    "\n",
    "@contadorDeLlamadas\n",
    "def mulp1(x, y=1):\n",
    "    return x*y + 1\n",
    "\n",
    "print(suc.calls)\n",
    "\n",
    "for i in range(4):\n",
    "    suc(i)\n",
    "    \n",
    "mulp1(1, 2)\n",
    "mulp1(5)\n",
    "mulp1(y=2, x=25)\n",
    "\n",
    "print(suc.calls)\n",
    "print(mulp1.calls)"
   ]
  },
  {
   "cell_type": "markdown",
   "metadata": {},
   "source": [
    "### Ejemplo:\n",
    "\n",
    "Decorar una función con diferentes saludos."
   ]
  },
  {
   "cell_type": "code",
   "execution_count": null,
   "metadata": {},
   "outputs": [],
   "source": [
    "def buenasTardes(func):\n",
    "    def saludo(x):\n",
    "        print(\"Hola, buenas tardes, \", end='')\n",
    "        func(x)\n",
    "    return saludo\n",
    "\n",
    "def buenosDias(func):\n",
    "    def saludo(x):\n",
    "        print(\"Hola, buenos días, \", end='')\n",
    "        func(x)\n",
    "    return saludo\n",
    "\n",
    "@buenasTardes\n",
    "def mensaje1(hora):\n",
    "    print(\"son las \" + hora)\n",
    "\n",
    "mensaje1(\"3 pm\")\n",
    "\n",
    "@buenosDias\n",
    "def mensaje2(hora):\n",
    "    print(\"son las \" + hora)\n",
    "    \n",
    "mensaje2(\"8 am\")"
   ]
  },
  {
   "cell_type": "markdown",
   "metadata": {},
   "source": [
    "### Ejemplo: decorador con parámetros\n",
    "\n",
    "El ejemplo anterior se puede realizar como sigue:"
   ]
  },
  {
   "cell_type": "code",
   "execution_count": null,
   "metadata": {},
   "outputs": [],
   "source": [
    "def saludo(expr):\n",
    "    def saludoDecorador(func):\n",
    "        def saludoGenerico(x):\n",
    "            print(expr, end='')\n",
    "            func(x)\n",
    "        return saludoGenerico\n",
    "    return saludoDecorador\n",
    "\n",
    "@saludo(\"Hola, buenas tardes, \")\n",
    "def mensaje1(hora):\n",
    "    print(\"son las \" + hora)\n",
    "\n",
    "mensaje1(\"3 pm\")\n",
    "\n",
    "@saludo(\"Hola, buenos días, \")\n",
    "def mensaje2(hora):\n",
    "    print(\"son las \" + hora)\n",
    "    \n",
    "mensaje2(\"8 am\")\n",
    "\n",
    "@saludo(\"καλημερα \")\n",
    "def mensaje3(hora):\n",
    "    print(\" <--- en griego \" + hora)\n",
    "    \n",
    "mensaje3(\" :D \")"
   ]
  },
  {
   "cell_type": "code",
   "execution_count": null,
   "metadata": {},
   "outputs": [],
   "source": []
  }
 ],
 "metadata": {
  "kernelspec": {
   "display_name": "Python 3",
   "language": "python",
   "name": "python3"
  },
  "language_info": {
   "codemirror_mode": {
    "name": "ipython",
    "version": 3
   },
   "file_extension": ".py",
   "mimetype": "text/x-python",
   "name": "python",
   "nbconvert_exporter": "python",
   "pygments_lexer": "ipython3",
   "version": "3.8.8"
  }
 },
 "nbformat": 4,
 "nbformat_minor": 4
}
